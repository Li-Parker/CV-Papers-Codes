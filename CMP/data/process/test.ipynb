{
 "cells": [
  {
   "cell_type": "code",
   "execution_count": 10,
   "metadata": {
    "collapsed": true,
    "ExecuteTime": {
     "end_time": "2024-10-25T05:51:47.400298100Z",
     "start_time": "2024-10-25T05:51:47.329442700Z"
    }
   },
   "outputs": [
    {
     "name": "stdout",
     "output_type": "stream",
     "text": [
      "10\n",
      "(832, 1024)\n"
     ]
    },
    {
     "data": {
      "text/plain": "<Figure size 640x480 with 1 Axes>",
      "image/png": "[encoded data removed]"
     },
     "metadata": {},
     "output_type": "display_data"
    }
   ],
   "source": [
    "import matplotlib.pyplot as plt\n",
    "import numpy as np\n",
    "from PIL import Image\n",
    "\n",
    "# 读取图像\n",
    "image_path = r\"./extended/cmp_x0001.png\"\n",
    "# image = plt.imread(image_path)\n",
    "image = np.array(Image.open(image_path))\n",
    "print(np.max(image))\n",
    "print(image.shape)\n",
    "\n",
    "# 显示图像\n",
    "plt.imshow(image)\n",
    "plt.axis('off')\n",
    "plt.show()"
   ]
  },
  {
   "cell_type": "code",
   "execution_count": 7,
   "outputs": [
    {
     "name": "stdout",
     "output_type": "stream",
     "text": [
      "(416, 352, 1024, 1024)\n"
     ]
    }
   ],
   "source": [
    "import os\n",
    "from PIL import Image\n",
    "\n",
    "lowest_common_multiple = 32\n",
    "\n",
    "\n",
    "def crop_images(input_folder, output_folder):\n",
    "    if not os.path.exists(output_folder):\n",
    "        os.makedirs(output_folder)\n",
    "    width_min = 1024\n",
    "    height_min = 1024\n",
    "    width_max = 1024\n",
    "    height_max = 1024\n",
    "    dic = {}\n",
    "    for filename in os.listdir(input_folder):\n",
    "        if filename.endswith(('.jpg', '.png', '.jpeg')):  # 支持的文件格式\n",
    "            img_path = os.path.join(input_folder, filename)\n",
    "            img = Image.open(img_path)\n",
    "            width, height = img.size\n",
    "            width_min = min(width, width_min)\n",
    "            height_min = min(height, height_min)\n",
    "            width_max = max(width, width_max)\n",
    "            height_max = max(height, height_max)\n",
    "    return width_min, height_min, width_max, height_max\n",
    "\n",
    "\n",
    "\n",
    "\n",
    "\n",
    "\n",
    "input_folder = './base'\n",
    "output_folder = './process/base'\n",
    "crop_images(input_folder, output_folder)\n",
    "input_folder = './extended'\n",
    "output_folder = './process/extended'\n",
    "print(crop_images(input_folder, output_folder))"
   ],
   "metadata": {
    "collapsed": false,
    "ExecuteTime": {
     "end_time": "2024-10-25T05:36:21.933248500Z",
     "start_time": "2024-10-25T05:36:21.817884400Z"
    }
   }
  },
  {
   "cell_type": "code",
   "execution_count": 3,
   "outputs": [
    {
     "name": "stdout",
     "output_type": "stream",
     "text": [
      "0\n"
     ]
    }
   ],
   "source": [
    "print(352%32)"
   ],
   "metadata": {
    "collapsed": false,
    "ExecuteTime": {
     "end_time": "2024-10-25T05:31:15.929135100Z",
     "start_time": "2024-10-25T05:31:15.917135600Z"
    }
   }
  },
  {
   "cell_type": "code",
   "execution_count": 12,
   "outputs": [
    {
     "name": "stdout",
     "output_type": "stream",
     "text": [
      "10\n",
      "(832, 1024)\n"
     ]
    },
    {
     "data": {
      "text/plain": "<Figure size 640x480 with 1 Axes>",
      "image/png": "[encoded data removed]"
     },
     "metadata": {},
     "output_type": "display_data"
    }
   ],
   "source": [
    "import matplotlib.pyplot as plt\n",
    "import numpy as np\n",
    "from PIL import Image\n",
    "\n",
    "# 读取图像\n",
    "image_path = r\"./extended/cmp_x0001.png\"\n",
    "# image = np.array(Image.open(image_path))\n",
    "print(np.max(image))\n",
    "print(image.shape)\n",
    "\n",
    "# 显示图像\n",
    "plt.imshow(image)\n",
    "plt.axis('off')\n",
    "plt.show()"
   ],
   "metadata": {
    "collapsed": false,
    "ExecuteTime": {
     "end_time": "2024-10-25T05:52:12.316754300Z",
     "start_time": "2024-10-25T05:52:12.238277400Z"
    }
   }
  },
  {
   "cell_type": "code",
   "execution_count": 19,
   "outputs": [
    {
     "name": "stdout",
     "output_type": "stream",
     "text": [
      "tensor([[ 0.5221, -1.2258,  0.0549,  0.4196],\n",
      "        [-0.5369, -0.2806, -1.7727,  0.5902],\n",
      "        [-0.0319,  0.2379,  0.7405,  0.5866]])\n"
     ]
    }
   ],
   "source": [
    "import torch\n",
    "a = torch.randn(size=(3,4))\n",
    "print(a)"
   ],
   "metadata": {
    "collapsed": false,
    "ExecuteTime": {
     "end_time": "2024-10-25T10:56:22.915462500Z",
     "start_time": "2024-10-25T10:56:22.910657Z"
    }
   }
  },
  {
   "cell_type": "code",
   "execution_count": 22,
   "outputs": [
    {
     "name": "stdout",
     "output_type": "stream",
     "text": [
      "torch.Size([3, 4])\n"
     ]
    }
   ],
   "source": [
    "a_size = a.shape\n",
    "print(a_size)"
   ],
   "metadata": {
    "collapsed": false,
    "ExecuteTime": {
     "end_time": "2024-10-25T10:56:37.606028200Z",
     "start_time": "2024-10-25T10:56:37.602499500Z"
    }
   }
  },
  {
   "cell_type": "code",
   "execution_count": 23,
   "outputs": [
    {
     "name": "stdout",
     "output_type": "stream",
     "text": [
      "3\n"
     ]
    }
   ],
   "source": [
    "print(a_size[0])"
   ],
   "metadata": {
    "collapsed": false,
    "ExecuteTime": {
     "end_time": "2024-10-25T10:56:43.145060Z",
     "start_time": "2024-10-25T10:56:43.141060300Z"
    }
   }
  },
  {
   "cell_type": "code",
   "execution_count": 29,
   "outputs": [
    {
     "name": "stdout",
     "output_type": "stream",
     "text": [
      "torch.Size([2, 4, 5])\n",
      "tensor([[[[-2.2935e-01, -1.7191e+00,  1.3009e+00,  8.9387e-02,  1.2107e+00],\n",
      "          [-6.6666e-01,  1.0054e+00,  1.5506e+00, -5.1194e-01, -4.1352e-01],\n",
      "          [-1.1870e+00,  1.6244e-01,  7.7992e-01, -9.1713e-01,  4.1103e-01],\n",
      "          [ 7.0247e-01,  5.9256e-01,  1.3384e+00,  5.3209e-01, -5.4842e-01]],\n",
      "\n",
      "         [[-6.6002e-01,  8.1809e-01, -7.9421e-01, -2.4067e-01, -8.6169e-01],\n",
      "          [ 1.0919e+00, -1.4763e+00, -2.6470e-01,  1.1372e+00,  8.9521e-02],\n",
      "          [ 3.1396e-01, -6.2721e-02,  4.7880e-01,  1.1788e-01,  7.9612e-02],\n",
      "          [ 6.0366e-01,  1.4053e+00, -7.8123e-01,  2.0713e+00,  1.2416e+00]],\n",
      "\n",
      "         [[-2.1567e-01, -4.4131e-01,  1.3910e+00,  3.7455e-01,  1.5827e+00],\n",
      "          [-1.4757e+00, -1.2876e+00,  9.9378e-01,  1.1953e+00,  1.7207e+00],\n",
      "          [-2.5664e-01,  1.1876e-02, -1.5807e+00,  8.3996e-01,  1.0887e+00],\n",
      "          [ 7.3099e-01, -8.3347e-02,  4.8500e-01, -1.4618e-01, -6.4523e-01]],\n",
      "\n",
      "         [[-4.3746e-01,  1.9729e+00,  8.1510e-01, -4.7735e-01,  1.7682e-01],\n",
      "          [-1.7030e+00, -4.1809e-01,  1.3476e-01, -3.0638e-01, -1.8143e-01],\n",
      "          [ 6.4579e-01,  4.3525e-01, -6.7603e-01, -1.6761e-01,  7.1050e-01],\n",
      "          [-4.2355e-01,  1.8707e-01,  1.7381e+00, -1.5570e+00,  1.2158e-02]],\n",
      "\n",
      "         [[ 1.6052e+00, -5.3134e-01,  3.1839e-01, -3.4127e-01, -6.9523e-02],\n",
      "          [-1.0657e+00, -5.0747e-01, -7.4325e-01, -1.1861e+00, -1.9760e+00],\n",
      "          [ 4.0342e-01,  1.4226e+00, -3.5822e-01, -6.1219e-02, -1.3839e+00],\n",
      "          [ 7.6709e-01,  1.4433e+00,  5.7018e-01, -1.0585e-01, -6.4552e-01]],\n",
      "\n",
      "         [[-1.2264e+00,  8.7253e-02, -6.0894e-01,  4.5144e-01, -4.9525e-01],\n",
      "          [-9.3296e-01, -9.3052e-01,  8.1286e-01, -1.9011e+00,  5.2474e-01],\n",
      "          [ 4.7329e-01,  6.0554e-01,  3.1717e-01,  1.5343e-01,  1.0187e-01],\n",
      "          [ 5.1111e-01,  1.6691e+00, -8.1743e-01,  1.7150e+00, -3.0942e-01]],\n",
      "\n",
      "         [[-7.1627e-01,  1.0070e-01, -4.4143e-01,  8.3000e-01,  1.8886e+00],\n",
      "          [-4.2098e-01,  8.7299e-01, -7.9226e-01,  1.6035e+00, -9.4281e-01],\n",
      "          [-1.8464e-02,  1.2333e+00, -5.4649e-01, -5.5063e-01, -7.8664e-01],\n",
      "          [-2.9572e+00,  2.7906e-01, -8.4708e-01,  2.5084e+00, -1.1025e+00]],\n",
      "\n",
      "         [[-2.9860e-01,  4.5328e-01,  1.7041e-01, -2.2335e-01, -1.9686e-01],\n",
      "          [-2.5258e-01, -8.4275e-01,  6.6211e-01, -5.6184e-01, -9.4464e-01],\n",
      "          [-6.9836e-01,  2.8706e-01,  3.1783e-01, -4.0033e-01, -2.0491e-01],\n",
      "          [ 3.9298e-01,  1.4418e+00,  5.0964e-01, -1.1696e-01, -8.9058e-02]],\n",
      "\n",
      "         [[-1.3271e+00,  6.4811e-01, -5.5674e-01, -1.5513e-01, -7.4181e-01],\n",
      "          [ 1.2290e+00,  2.4616e-02, -1.2762e+00,  2.0292e-01,  9.9465e-02],\n",
      "          [-1.6464e+00, -1.3308e+00,  1.3097e+00, -5.1418e-01, -1.4599e+00],\n",
      "          [-2.3388e+00, -2.6601e-01, -3.6907e-01, -1.1054e-01,  3.4051e-01]],\n",
      "\n",
      "         [[ 6.7871e-01,  4.9258e-01,  5.8645e-01,  2.4406e+00, -1.0884e+00],\n",
      "          [-4.6198e-01,  1.4387e-01,  1.3521e+00,  1.4457e+00,  5.3782e-01],\n",
      "          [-3.6233e-01,  6.2553e-01,  1.4825e+00,  1.3071e+00, -1.7463e-01],\n",
      "          [-1.6548e-01,  6.8580e-02,  1.0811e+00,  1.6685e-01,  5.7695e-02]]],\n",
      "\n",
      "\n",
      "        [[[ 2.9587e-02, -5.7743e-01,  7.3782e-01,  1.6867e+00,  1.3675e-01],\n",
      "          [-1.5805e+00, -2.3198e-01,  1.5507e+00,  9.1747e-04,  5.4336e-01],\n",
      "          [ 1.0671e-01, -2.2897e-01,  2.1691e-02,  1.0922e+00, -1.2367e+00],\n",
      "          [ 1.8123e+00,  5.6114e-01, -8.8131e-01, -5.6151e-01,  1.3317e+00]],\n",
      "\n",
      "         [[-6.2438e-01,  2.2670e-01,  9.4281e-01,  1.1061e+00, -8.6376e-01],\n",
      "          [-1.0683e+00,  4.4769e-01,  7.2515e-01, -7.2281e-01,  9.3226e-01],\n",
      "          [-7.2141e-01, -1.9155e+00, -1.2013e+00, -3.7251e-01,  5.2772e-01],\n",
      "          [ 4.4734e-01, -5.2689e-01,  1.4149e-01, -4.1922e-01,  1.4237e+00]],\n",
      "\n",
      "         [[ 8.6652e-01,  4.6171e-01,  2.6903e-01,  2.6660e-02, -3.4998e-01],\n",
      "          [-1.7110e+00, -8.2256e-01,  1.5974e-01,  2.2493e-01, -1.1260e+00],\n",
      "          [ 3.0200e-01, -5.1340e-01,  1.4732e-01,  1.4377e+00,  6.9669e-02],\n",
      "          [ 1.1241e-02, -5.7830e-01, -1.6177e+00, -1.9267e-01, -1.2929e+00]],\n",
      "\n",
      "         [[ 3.2684e-02,  2.3372e-01, -7.6549e-01,  3.8952e-01,  6.3564e-01],\n",
      "          [-1.9566e-01, -1.4773e+00, -1.3812e+00, -4.5471e-01, -8.7070e-01],\n",
      "          [-5.8017e-01,  1.7351e+00,  1.0722e+00, -1.1597e-01, -8.3906e-01],\n",
      "          [-1.5926e+00, -7.3682e-01,  1.3486e+00,  5.3950e-01, -1.0619e+00]],\n",
      "\n",
      "         [[-1.5011e+00,  3.2079e-01, -2.6735e-03,  1.9177e+00, -1.0692e+00],\n",
      "          [-3.8044e-01, -1.1221e+00, -2.2519e-01, -1.5933e+00, -7.8559e-01],\n",
      "          [-1.3213e+00,  1.7852e+00, -1.2517e+00, -4.4909e-01,  3.8769e-01],\n",
      "          [-5.0619e-01,  1.9289e+00,  4.8782e-01,  1.9845e+00, -8.7972e-01]],\n",
      "\n",
      "         [[ 5.1800e-01, -2.5157e+00, -5.7829e-01, -3.5065e-01,  6.4961e-01],\n",
      "          [-1.2582e+00, -2.9625e-01,  5.8772e-01, -4.6860e-01,  8.2191e-01],\n",
      "          [-7.5238e-01, -1.2934e+00,  3.4472e-01,  1.3249e+00, -4.8746e-02],\n",
      "          [ 1.5528e+00, -9.2988e-01,  2.5223e+00, -6.7309e-01, -3.8845e-01]],\n",
      "\n",
      "         [[-3.0960e-01,  1.2665e+00, -8.0552e-01, -1.3891e+00,  3.9709e-01],\n",
      "          [-9.2668e-01, -1.1123e+00, -7.5733e-02,  1.6422e-01,  1.1908e-02],\n",
      "          [-4.6751e-01, -3.9892e-01,  7.8470e-01, -2.0770e+00,  1.4916e+00],\n",
      "          [-3.2706e-02,  1.3911e+00, -5.8087e-01, -2.1149e-01,  9.8968e-02]],\n",
      "\n",
      "         [[-1.4981e+00, -1.0680e+00,  1.4018e+00, -5.8259e-01, -6.4953e-01],\n",
      "          [-1.3141e+00, -4.1845e-01,  3.5776e-01,  4.5288e-01, -4.9116e-02],\n",
      "          [ 4.7685e-01,  1.6603e+00, -8.9569e-02, -2.7676e-01,  1.2135e+00],\n",
      "          [-5.5425e-01, -9.2307e-01,  6.3055e-01, -1.2157e+00, -2.5796e+00]],\n",
      "\n",
      "         [[-7.0722e-01, -1.3442e+00,  7.6112e-01,  3.8480e-01, -4.4471e-01],\n",
      "          [ 4.3015e-01, -4.1943e-01, -1.1321e+00, -1.4303e+00, -1.0784e-02],\n",
      "          [-6.9073e-01, -6.7509e-01, -2.7321e-01, -1.1305e+00, -1.5272e-01],\n",
      "          [ 4.9910e-01,  1.1279e-01,  1.4953e-01, -5.2216e-01, -8.5556e-01]],\n",
      "\n",
      "         [[-1.3193e-01, -1.4146e+00,  2.0247e-01, -1.1418e+00,  1.2794e-01],\n",
      "          [-6.6833e-01,  8.9355e-01,  1.6355e+00,  2.2630e+00, -8.7592e-02],\n",
      "          [ 2.0779e-01, -1.2473e+00, -1.2207e+00, -8.6411e-01,  1.1211e+00],\n",
      "          [-3.7021e-01,  9.4856e-01, -3.0279e-01, -1.5608e+00, -1.1344e+00]]]])\n",
      "tensor([[[ 5,  4,  3, 10,  7],\n",
      "         [ 9,  1,  1,  7,  3],\n",
      "         [ 4,  5, 10, 10,  3],\n",
      "         [ 5,  6,  4,  7,  2]],\n",
      "\n",
      "        [[ 3,  7,  8,  5,  6],\n",
      "         [ 9, 10, 10, 10,  2],\n",
      "         [ 8,  5,  4,  3,  7],\n",
      "         [ 1,  5,  6,  5,  2]]])\n",
      "tensor([[[[ 5,  4,  3, 10,  7],\n",
      "          [ 9,  1,  1,  7,  3],\n",
      "          [ 4,  5, 10, 10,  3],\n",
      "          [ 5,  6,  4,  7,  2]]],\n",
      "\n",
      "\n",
      "        [[[ 3,  7,  8,  5,  6],\n",
      "          [ 9, 10, 10, 10,  2],\n",
      "          [ 8,  5,  4,  3,  7],\n",
      "          [ 1,  5,  6,  5,  2]]]])\n"
     ]
    }
   ],
   "source": [
    "import torch\n",
    "\n",
    "# 假设你有一个形状为 (batch_size, class_num, w, h) 的张量\n",
    "batch_size, class_num, w, h = 2, 10, 4, 5  # 这里你可以设置你需要的形状\n",
    "tensor = torch.randn(batch_size, class_num, w, h)\n",
    "\n",
    "# 选出每个位置的最大值对应的索引\n",
    "max_indices = torch.argmax(tensor, dim=1)+1  # 沿着 class_num 维度\n",
    "\n",
    "print(max_indices.shape)  # 输出形状 (batch_size, w, h)\n",
    "print(tensor)\n",
    "print(max_indices)  # 输出最大值对应的索引\n",
    "print(max_indices.reshape(2,1,4,5))"
   ],
   "metadata": {
    "collapsed": false,
    "ExecuteTime": {
     "end_time": "2024-10-25T11:04:32.632686700Z",
     "start_time": "2024-10-25T11:04:32.611807400Z"
    }
   }
  },
  {
   "cell_type": "code",
   "execution_count": null,
   "outputs": [],
   "source": [],
   "metadata": {
    "collapsed": false
   }
  }
 ],
 "metadata": {
  "kernelspec": {
   "display_name": "Python 3",
   "language": "python",
   "name": "python3"
  },
  "language_info": {
   "codemirror_mode": {
    "name": "ipython",
    "version": 2
   },
   "file_extension": ".py",
   "mimetype": "text/x-python",
   "name": "python",
   "nbconvert_exporter": "python",
   "pygments_lexer": "ipython2",
   "version": "2.7.6"
  }
 },
 "nbformat": 4,
 "nbformat_minor": 0
}
